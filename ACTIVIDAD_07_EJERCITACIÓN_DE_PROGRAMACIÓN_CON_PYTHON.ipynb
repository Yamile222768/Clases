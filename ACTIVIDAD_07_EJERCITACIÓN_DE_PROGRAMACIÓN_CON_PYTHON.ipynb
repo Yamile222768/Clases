{
  "nbformat": 4,
  "nbformat_minor": 0,
  "metadata": {
    "colab": {
      "provenance": [],
      "authorship_tag": "ABX9TyOEVQHvIsj51+khjzW2y1AL",
      "include_colab_link": true
    },
    "kernelspec": {
      "name": "python3",
      "display_name": "Python 3"
    },
    "language_info": {
      "name": "python"
    }
  },
  "cells": [
    {
      "cell_type": "markdown",
      "metadata": {
        "id": "view-in-github",
        "colab_type": "text"
      },
      "source": [
        "<a href=\"https://colab.research.google.com/github/Yamile222768/Clases/blob/main/ACTIVIDAD_07_EJERCITACI%C3%93N_DE_PROGRAMACI%C3%93N_CON_PYTHON.ipynb\" target=\"_parent\"><img src=\"https://colab.research.google.com/assets/colab-badge.svg\" alt=\"Open In Colab\"/></a>"
      ]
    },
    {
      "cell_type": "markdown",
      "source": [
        "# **ACTIVIDAD 07 - EJERCITACIÓN DE PROGRAMACIÓN CON PYTHON**"
      ],
      "metadata": {
        "id": "C6fR-e3zTEoQ"
      }
    },
    {
      "cell_type": "code",
      "source": [],
      "metadata": {
        "id": "ZXpzytcKTKLD"
      },
      "execution_count": null,
      "outputs": []
    }
  ]
}