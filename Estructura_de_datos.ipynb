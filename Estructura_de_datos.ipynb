{
  "nbformat": 4,
  "nbformat_minor": 0,
  "metadata": {
    "colab": {
      "provenance": [],
      "authorship_tag": "ABX9TyPYVj9k68VBHO4+Y4QB/5ez",
      "include_colab_link": true
    },
    "kernelspec": {
      "name": "python3",
      "display_name": "Python 3"
    },
    "language_info": {
      "name": "python"
    }
  },
  "cells": [
    {
      "cell_type": "markdown",
      "metadata": {
        "id": "view-in-github",
        "colab_type": "text"
      },
      "source": [
        "<a href=\"https://colab.research.google.com/github/Yamile222768/Clases/blob/main/Estructura_de_datos.ipynb\" target=\"_parent\"><img src=\"https://colab.research.google.com/assets/colab-badge.svg\" alt=\"Open In Colab\"/></a>"
      ]
    },
    {
      "cell_type": "code",
      "execution_count": 1,
      "metadata": {
        "colab": {
          "base_uri": "https://localhost:8080/"
        },
        "id": "RFmqqx4IXXiP",
        "outputId": "e0efd79b-b9b8-4c6a-fa5e-748902c86089"
      },
      "outputs": [
        {
          "output_type": "stream",
          "name": "stdout",
          "text": [
            "Dime un número: 1\n",
            "Dime un número: 2\n",
            "Dime un número: 3\n",
            "Dime un número: 4\n",
            "Dime un número: 5\n",
            "Dime un número: 6\n",
            "Dime un número: 7\n",
            "Dime un número: 8\n",
            "Dime un número: 9\n",
            "Dime un número: 10\n",
            "[1, 2, 3, 4, 5, 6, 7, 8, 9, 10]\n",
            "[-1, -2, -3, -4, -5, -6, -7, -8, -9, -10]\n"
          ]
        }
      ],
      "source": [
        "array = list()\n",
        "arreglo = []\n",
        "\n",
        "\n",
        "for i in range (10):\n",
        "    numero = int(input(\"Dime un número: \"))\n",
        "    array.append(numero)\n",
        "    arreglo.append(-1*numero)\n",
        "\n",
        "print(array)\n",
        "print(arreglo)\n"
      ]
    },
    {
      "cell_type": "code",
      "source": [
        "diccionario = dict()\n",
        "dictionary = {}\n",
        "\n",
        "array = dict()\n",
        "arreglo = []\n",
        "\n",
        "\n",
        "for i in range (10):\n",
        "    numero = int(input(\"Dime un número: \"))\n",
        "    array[numero] = i #numero es la llave\n",
        "    arreglo[-1*numero] = -1*i\n",
        "\n",
        "print(array)\n",
        "print(arreglo)\n"
      ],
      "metadata": {
        "colab": {
          "base_uri": "https://localhost:8080/",
          "height": 228
        },
        "id": "Nb074JT6bYcI",
        "outputId": "c3084b49-dbe5-42b3-ed61-2e8579b48233"
      },
      "execution_count": 6,
      "outputs": [
        {
          "name": "stdout",
          "output_type": "stream",
          "text": [
            "Dime un número: 1\n"
          ]
        },
        {
          "output_type": "error",
          "ename": "IndexError",
          "evalue": "list assignment index out of range",
          "traceback": [
            "\u001b[0;31m---------------------------------------------------------------------------\u001b[0m",
            "\u001b[0;31mIndexError\u001b[0m                                Traceback (most recent call last)",
            "\u001b[0;32m<ipython-input-6-dc2aaeb72755>\u001b[0m in \u001b[0;36m<cell line: 8>\u001b[0;34m()\u001b[0m\n\u001b[1;32m      9\u001b[0m     \u001b[0mnumero\u001b[0m \u001b[0;34m=\u001b[0m \u001b[0mint\u001b[0m\u001b[0;34m(\u001b[0m\u001b[0minput\u001b[0m\u001b[0;34m(\u001b[0m\u001b[0;34m\"Dime un número: \"\u001b[0m\u001b[0;34m)\u001b[0m\u001b[0;34m)\u001b[0m\u001b[0;34m\u001b[0m\u001b[0;34m\u001b[0m\u001b[0m\n\u001b[1;32m     10\u001b[0m     \u001b[0marray\u001b[0m\u001b[0;34m[\u001b[0m\u001b[0mnumero\u001b[0m\u001b[0;34m]\u001b[0m \u001b[0;34m=\u001b[0m \u001b[0mi\u001b[0m \u001b[0;31m##numero es la llave\u001b[0m\u001b[0;34m\u001b[0m\u001b[0;34m\u001b[0m\u001b[0m\n\u001b[0;32m---> 11\u001b[0;31m     \u001b[0marreglo\u001b[0m\u001b[0;34m[\u001b[0m\u001b[0;34m-\u001b[0m\u001b[0;36m1\u001b[0m\u001b[0;34m*\u001b[0m\u001b[0mnumero\u001b[0m\u001b[0;34m]\u001b[0m \u001b[0;34m=\u001b[0m \u001b[0;34m-\u001b[0m\u001b[0;36m1\u001b[0m\u001b[0;34m*\u001b[0m\u001b[0mi\u001b[0m\u001b[0;34m\u001b[0m\u001b[0;34m\u001b[0m\u001b[0m\n\u001b[0m\u001b[1;32m     12\u001b[0m \u001b[0;34m\u001b[0m\u001b[0m\n\u001b[1;32m     13\u001b[0m \u001b[0mprint\u001b[0m\u001b[0;34m(\u001b[0m\u001b[0marray\u001b[0m\u001b[0;34m)\u001b[0m\u001b[0;34m\u001b[0m\u001b[0;34m\u001b[0m\u001b[0m\n",
            "\u001b[0;31mIndexError\u001b[0m: list assignment index out of range"
          ]
        }
      ]
    }
  ]
}